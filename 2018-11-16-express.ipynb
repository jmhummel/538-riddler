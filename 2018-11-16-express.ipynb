{
 "cells": [
  {
   "cell_type": "markdown",
   "metadata": {},
   "source": [
    "From Jordan Pujol, a chess match problem:\n",
    "\n",
    "The World Chess Championship is underway. It is a 12-game match between the world’s top two grandmasters. Many chess fans feel that 12 games is far too short for a biennial world championship match, allowing too much variance.\n",
    "\n",
    "Say one of the players is better than his opponent to the degree that he wins 20 percent of all games, loses 15 percent of games and that 65 percent of games are drawn. Wins at this match are worth 1 point, draws a half-point for each player, and losses 0 points. In a 12-game match, the first player to 6.5 points wins.\n",
    "\n",
    "What are the chances the better player wins a 12-game match? How many games would a match have to be in order to give the better player a 75 chance of winning the match outright? A 90 percent chance? A 99 percent chance?\n",
    "\n",
    "source: https://fivethirtyeight.com/features/the-riddler-just-had-to-go-and-reinvent-beer-pong/"
   ]
  },
  {
   "cell_type": "code",
   "execution_count": 1,
   "metadata": {},
   "outputs": [],
   "source": [
    "import numpy as np"
   ]
  },
  {
   "cell_type": "code",
   "execution_count": 11,
   "metadata": {},
   "outputs": [],
   "source": [
    "a = np.matrix(np.zeros((10,5)))"
   ]
  },
  {
   "cell_type": "code",
   "execution_count": 28,
   "metadata": {},
   "outputs": [],
   "source": [
    "class ChessMatch:\n",
    "    default_config = {\n",
    "        'win_p': 0.2,\n",
    "        'loss_p': 0.15,\n",
    "        'draw_p': 0.65,\n",
    "        'win_pts': 1.0,\n",
    "        'draw_pts': 0.5,\n",
    "        'loss_pts': 0.0,\n",
    "        'num_games': 12\n",
    "    }\n",
    "    \n",
    "    def __init__(self, config=default_config):\n",
    "        self.config = config\n",
    "\n",
    "    def build_markov_chain(self):\n",
    "        pass"
   ]
  },
  {
   "cell_type": "code",
   "execution_count": 26,
   "metadata": {},
   "outputs": [],
   "source": [
    "c = ChessMatch()"
   ]
  },
  {
   "cell_type": "code",
   "execution_count": 27,
   "metadata": {},
   "outputs": [
    {
     "data": {
      "text/plain": [
       "{'win_p': 0.2,\n",
       " 'loss_p': 0.15,\n",
       " 'draw_p': 0.65,\n",
       " 'win_pts': 1.0,\n",
       " 'draw_pts': 0.5,\n",
       " 'loss_pts': 0.0,\n",
       " 'num_games': 12}"
      ]
     },
     "execution_count": 27,
     "metadata": {},
     "output_type": "execute_result"
    }
   ],
   "source": [
    "c.config"
   ]
  },
  {
   "cell_type": "code",
   "execution_count": null,
   "metadata": {},
   "outputs": [],
   "source": []
  }
 ],
 "metadata": {
  "kernelspec": {
   "display_name": "Python 3",
   "language": "python",
   "name": "python3"
  },
  "language_info": {
   "codemirror_mode": {
    "name": "ipython",
    "version": 3
   },
   "file_extension": ".py",
   "mimetype": "text/x-python",
   "name": "python",
   "nbconvert_exporter": "python",
   "pygments_lexer": "ipython3",
   "version": "3.7.0"
  }
 },
 "nbformat": 4,
 "nbformat_minor": 2
}
